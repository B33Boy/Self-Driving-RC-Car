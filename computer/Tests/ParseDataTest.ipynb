{
 "cells": [
  {
   "cell_type": "code",
   "execution_count": 5,
   "metadata": {},
   "outputs": [],
   "source": [
    "import numpy as np\n",
    "import glob"
   ]
  },
  {
   "cell_type": "code",
   "execution_count": 6,
   "metadata": {},
   "outputs": [],
   "source": [
    "# get all .npz files in the folder 'training data'\n",
    "training_data = glob.glob('../training_data/*.npz')\n",
    "\n",
    "X = np.zeros((0, 38400))\n",
    "y = np.zeros((0, 3), 'float')"
   ]
  },
  {
   "cell_type": "code",
   "execution_count": 7,
   "metadata": {},
   "outputs": [
    {
     "name": "stdout",
     "output_type": "stream",
     "text": [
      "(1071, 38400) (1071, 3)\n"
     ]
    }
   ],
   "source": [
    "#print(\"input_data_path: \", training_data)\n",
    "\n",
    "for input_file in training_data:\n",
    "\n",
    "    with np.load(input_file) as data:\n",
    "        X_temp = data['train']\n",
    "        y_temp = data['train_labels']\n",
    "    \n",
    "    #Get rid of the first rows of each training_data file\n",
    "    X = np.vstack((X, X_temp[1:]))\n",
    "    y = np.vstack((y, y_temp[1:]))\n",
    "\n",
    "print(X.shape, y.shape)"
   ]
  },
  {
   "cell_type": "code",
   "execution_count": null,
   "metadata": {},
   "outputs": [],
   "source": []
  }
 ],
 "metadata": {
  "kernelspec": {
   "display_name": "Python 3",
   "language": "python",
   "name": "python3"
  },
  "language_info": {
   "codemirror_mode": {
    "name": "ipython",
    "version": 3
   },
   "file_extension": ".py",
   "mimetype": "text/x-python",
   "name": "python",
   "nbconvert_exporter": "python",
   "pygments_lexer": "ipython3",
   "version": "3.6.5"
  }
 },
 "nbformat": 4,
 "nbformat_minor": 2
}
